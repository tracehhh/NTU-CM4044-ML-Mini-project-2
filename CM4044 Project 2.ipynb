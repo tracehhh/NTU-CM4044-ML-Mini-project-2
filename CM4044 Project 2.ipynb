{
 "cells": [
  {
   "cell_type": "markdown",
   "id": "4315c465",
   "metadata": {},
   "source": [
    "# CM4044 Project 2"
   ]
  },
  {
   "cell_type": "code",
   "execution_count": 53,
   "id": "34ca5001",
   "metadata": {},
   "outputs": [],
   "source": [
    "import pandas as pd\n",
    "import numpy as np\n",
    "import matplotlib.pyplot as plt\n",
    "\n",
    "from rdkit import Chem, DataStructs\n",
    "from rdkit.Chem import AllChem\n",
    "from rdkit.ML.Descriptors import MoleculeDescriptors\n",
    "from rdkit.Chem import Descriptors\n",
    "\n",
    "from sklearn.preprocessing import StandardScaler\n",
    "from sklearn.model_selection import train_test_split\n",
    "from sklearn.metrics import r2_score\n",
    "from sklearn.ensemble import RandomForestRegressor\n",
    "from sklearn import gaussian_process\n",
    "from sklearn.gaussian_process.kernels import Matern, WhiteKernel, ConstantKernel, RBF"
   ]
  },
  {
   "cell_type": "code",
   "execution_count": 54,
   "id": "b4531261",
   "metadata": {},
   "outputs": [
    {
     "name": "stderr",
     "output_type": "stream",
     "text": [
      "/var/folders/j8/jh2j4zt912v3mqx01zx76dym0000gn/T/ipykernel_4621/307725486.py:1: DtypeWarning: Columns (121,122,301,302,303,304,305,307,308,309,422,423,424,425,426,428,429,430,488,489,490,491,492,494,495,496,522,523,524,525,526,528,529,530,556,557,558,559,560,562,563,564,590,591,592,593,594,596,597,598,624,625,626,627,628,630,631,632,658,659,660,661,662,664,665,666,1638,1639,1640,1641,1642,1644,1645,1646) have mixed types. Specify dtype option on import or set low_memory=False.\n",
      "  data = pd.read_csv('enthalpy_data.csv', sep=',')\n"
     ]
    },
    {
     "data": {
      "text/html": [
       "<div>\n",
       "<style scoped>\n",
       "    .dataframe tbody tr th:only-of-type {\n",
       "        vertical-align: middle;\n",
       "    }\n",
       "\n",
       "    .dataframe tbody tr th {\n",
       "        vertical-align: top;\n",
       "    }\n",
       "\n",
       "    .dataframe thead th {\n",
       "        text-align: right;\n",
       "    }\n",
       "</style>\n",
       "<table border=\"1\" class=\"dataframe\">\n",
       "  <thead>\n",
       "    <tr style=\"text-align: right;\">\n",
       "      <th></th>\n",
       "      <th>Smiles</th>\n",
       "      <th>Enthalpy</th>\n",
       "      <th>Mol</th>\n",
       "      <th>Descriptors</th>\n",
       "    </tr>\n",
       "  </thead>\n",
       "  <tbody>\n",
       "    <tr>\n",
       "      <th>0</th>\n",
       "      <td>CCCCCCCCCCCCCCCCCC</td>\n",
       "      <td>-99.091888</td>\n",
       "      <td>&lt;rdkit.Chem.rdchem.Mol object at 0x16ad7f0d0&gt;</td>\n",
       "      <td>[2.2939033705287217, 2.2939033705287217, 1.373...</td>\n",
       "    </tr>\n",
       "    <tr>\n",
       "      <th>1</th>\n",
       "      <td>CCCCCCCCCCCCCCCC</td>\n",
       "      <td>-89.480000</td>\n",
       "      <td>&lt;rdkit.Chem.rdchem.Mol object at 0x16ad7f140&gt;</td>\n",
       "      <td>[2.2902201417224934, 2.2902201417224934, 1.372...</td>\n",
       "    </tr>\n",
       "    <tr>\n",
       "      <th>2</th>\n",
       "      <td>CCCCC(C)(C)CC(C)(C)CCCC</td>\n",
       "      <td>-87.619600</td>\n",
       "      <td>&lt;rdkit.Chem.rdchem.Mol object at 0x16ad7f1b0&gt;</td>\n",
       "      <td>[2.440829081632653, 2.440829081632653, 0.53497...</td>\n",
       "    </tr>\n",
       "    <tr>\n",
       "      <th>3</th>\n",
       "      <td>CCCC(C)(CC)CC(C)(CC)CCC</td>\n",
       "      <td>-82.958983</td>\n",
       "      <td>&lt;rdkit.Chem.rdchem.Mol object at 0x16ad7f220&gt;</td>\n",
       "      <td>[2.486180555555556, 2.486180555555556, 0.57805...</td>\n",
       "    </tr>\n",
       "    <tr>\n",
       "      <th>4</th>\n",
       "      <td>CCCCCCCCCCCCCCC</td>\n",
       "      <td>-84.390000</td>\n",
       "      <td>&lt;rdkit.Chem.rdchem.Mol object at 0x16ad7f290&gt;</td>\n",
       "      <td>[2.2879979195002713, 2.2879979195002713, 1.372...</td>\n",
       "    </tr>\n",
       "  </tbody>\n",
       "</table>\n",
       "</div>"
      ],
      "text/plain": [
       "                    Smiles   Enthalpy  \\\n",
       "0       CCCCCCCCCCCCCCCCCC -99.091888   \n",
       "1         CCCCCCCCCCCCCCCC -89.480000   \n",
       "2  CCCCC(C)(C)CC(C)(C)CCCC -87.619600   \n",
       "3  CCCC(C)(CC)CC(C)(CC)CCC -82.958983   \n",
       "4          CCCCCCCCCCCCCCC -84.390000   \n",
       "\n",
       "                                             Mol  \\\n",
       "0  <rdkit.Chem.rdchem.Mol object at 0x16ad7f0d0>   \n",
       "1  <rdkit.Chem.rdchem.Mol object at 0x16ad7f140>   \n",
       "2  <rdkit.Chem.rdchem.Mol object at 0x16ad7f1b0>   \n",
       "3  <rdkit.Chem.rdchem.Mol object at 0x16ad7f220>   \n",
       "4  <rdkit.Chem.rdchem.Mol object at 0x16ad7f290>   \n",
       "\n",
       "                                         Descriptors  \n",
       "0  [2.2939033705287217, 2.2939033705287217, 1.373...  \n",
       "1  [2.2902201417224934, 2.2902201417224934, 1.372...  \n",
       "2  [2.440829081632653, 2.440829081632653, 0.53497...  \n",
       "3  [2.486180555555556, 2.486180555555556, 0.57805...  \n",
       "4  [2.2879979195002713, 2.2879979195002713, 1.372...  "
      ]
     },
     "execution_count": 54,
     "metadata": {},
     "output_type": "execute_result"
    }
   ],
   "source": [
    "data = pd.read_csv('enthalpy_data.csv', sep=',')\n",
    "\n",
    "data = data[['Smiles','Enthalpy(kcal)']]\n",
    "\n",
    "# calculate the molecules descriptors and append them to the data object\n",
    "data['Mol'] = data['Smiles'].apply(Chem.MolFromSmiles)\n",
    "\n",
    "descriptor_names = [desc_name for desc_name, _ in Descriptors._descList]\n",
    "# print(descriptor_names)\n",
    "calculator = MoleculeDescriptors.MolecularDescriptorCalculator(descriptor_names)\n",
    "def calc_all_descriptors(mol):\n",
    "    if mol is None:\n",
    "        return [None] * len(descriptor_names)\n",
    "    return list(calculator.CalcDescriptors(mol))\n",
    "data['Descriptors'] = data['Mol'].apply(calc_all_descriptors)\n",
    "data.rename(columns={'Enthalpy(kcal)': 'Enthalpy'}, inplace=True)\n",
    "\n",
    "data.head(5)"
   ]
  },
  {
   "cell_type": "code",
   "execution_count": null,
   "id": "28c1d10e",
   "metadata": {},
   "outputs": [],
   "source": [
    "# convert into data in numpy array\n",
    "\n",
    "X = np.array(list(data['Descriptors']))\n",
    "y = data['Enthalpy'].to_numpy()\n",
    "\n",
    "st = StandardScaler()\n",
    "X = st.fit_transform(X)\n",
    "\n",
    "X_train, X_test, y_train, y_test = train_test_split(X, y, test_size=0.2, random_state=42)"
   ]
  }
 ],
 "metadata": {
  "kernelspec": {
   "display_name": "Python 3",
   "language": "python",
   "name": "python3"
  },
  "language_info": {
   "codemirror_mode": {
    "name": "ipython",
    "version": 3
   },
   "file_extension": ".py",
   "mimetype": "text/x-python",
   "name": "python",
   "nbconvert_exporter": "python",
   "pygments_lexer": "ipython3",
   "version": "3.11.5"
  }
 },
 "nbformat": 4,
 "nbformat_minor": 5
}
